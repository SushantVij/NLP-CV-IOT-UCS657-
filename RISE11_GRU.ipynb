{
  "nbformat": 4,
  "nbformat_minor": 0,
  "metadata": {
    "colab": {
      "provenance": [],
      "gpuType": "T4",
      "authorship_tag": "ABX9TyN3Bom1PFZQMtgvK1hSxPPu",
      "include_colab_link": true
    },
    "kernelspec": {
      "name": "python3",
      "display_name": "Python 3"
    },
    "language_info": {
      "name": "python"
    },
    "accelerator": "GPU"
  },
  "cells": [
    {
      "cell_type": "markdown",
      "metadata": {
        "id": "view-in-github",
        "colab_type": "text"
      },
      "source": [
        "<a href=\"https://colab.research.google.com/github/SushantVij/NLP-CV-IOT-UCS657-/blob/main/RISE11_GRU.ipynb\" target=\"_parent\"><img src=\"https://colab.research.google.com/assets/colab-badge.svg\" alt=\"Open In Colab\"/></a>"
      ]
    },
    {
      "cell_type": "markdown",
      "source": [
        "Import necessary libraries"
      ],
      "metadata": {
        "id": "Nvi5AKTUe2uc"
      }
    },
    {
      "cell_type": "code",
      "source": [
        "import pandas as pd\n",
        "import numpy as np\n",
        "import seaborn as sns\n",
        "import matplotlib.pyplot as plt\n",
        "from sklearn.model_selection import train_test_split\n",
        "from sklearn.metrics import confusion_matrix, accuracy_score, classification_report\n",
        "import nltk\n",
        "from nltk.tokenize import word_tokenize\n",
        "from nltk.corpus import stopwords\n",
        "from nltk.stem import WordNetLemmatizer\n",
        "from tensorflow import keras\n",
        "from tensorflow.keras.models import Sequential\n",
        "from tensorflow.keras.layers import Embedding, GRU, Dense, Bidirectional, Dropout\n",
        "from tensorflow.keras.preprocessing.text import Tokenizer\n",
        "from tensorflow.keras.preprocessing.sequence import pad_sequences\n",
        "from tensorflow.keras.optimizers import Adam\n",
        "from tensorflow.keras.callbacks import EarlyStopping"
      ],
      "metadata": {
        "id": "dXcojVoVSCXU"
      },
      "execution_count": null,
      "outputs": []
    },
    {
      "cell_type": "markdown",
      "source": [
        " Load the dataset"
      ],
      "metadata": {
        "id": "fUX5fRBze_Wx"
      }
    },
    {
      "cell_type": "code",
      "source": [
        "df = pd.read_csv('/content/train.csv')"
      ],
      "metadata": {
        "id": "ndclgBeeSFnG"
      },
      "execution_count": null,
      "outputs": []
    },
    {
      "cell_type": "markdown",
      "source": [
        "Preprocess text data"
      ],
      "metadata": {
        "id": "NNbC5UxKfFwg"
      }
    },
    {
      "cell_type": "code",
      "source": [
        "\n",
        "# Preprocess text\n",
        "nltk.download('punkt')\n",
        "nltk.download('stopwords')\n",
        "nltk.download('wordnet')"
      ],
      "metadata": {
        "colab": {
          "base_uri": "https://localhost:8080/"
        },
        "id": "90JOeLNhSFd5",
        "outputId": "52367542-10f6-4049-853a-a4fa8bee6833"
      },
      "execution_count": null,
      "outputs": [
        {
          "output_type": "stream",
          "name": "stderr",
          "text": [
            "[nltk_data] Downloading package punkt to /root/nltk_data...\n",
            "[nltk_data]   Package punkt is already up-to-date!\n",
            "[nltk_data] Downloading package stopwords to /root/nltk_data...\n",
            "[nltk_data]   Package stopwords is already up-to-date!\n",
            "[nltk_data] Downloading package wordnet to /root/nltk_data...\n",
            "[nltk_data]   Package wordnet is already up-to-date!\n"
          ]
        },
        {
          "output_type": "execute_result",
          "data": {
            "text/plain": [
              "True"
            ]
          },
          "metadata": {},
          "execution_count": 10
        }
      ]
    },
    {
      "cell_type": "code",
      "source": [
        "#Define a parallel text preprocessing function\n",
        "from joblib import Parallel, delayed"
      ],
      "metadata": {
        "id": "f7INothwXGM3"
      },
      "execution_count": null,
      "outputs": []
    },
    {
      "cell_type": "markdown",
      "source": [
        "\n",
        "    Tokenize, lowercase, remove non-alphanumeric, and lemmatize words in a given text.\n",
        "    \n",
        "    Args:\n",
        "    - text (str): Input text to be preprocessed.\n",
        "    - stop_words (set): Set of stopwords to be removed.\n",
        "    \n",
        "    Returns:\n",
        "    - str: Preprocessed text.\n",
        "  "
      ],
      "metadata": {
        "id": "FQTgOUL9fk0l"
      }
    },
    {
      "cell_type": "markdown",
      "source": [
        "\n",
        "    Preprocess an entire column of text data in parallel using joblib.\n",
        "    \n",
        "    Args:\n",
        "    - column (pd.Series): Series containing text data to be preprocessed.\n",
        "    - stop_words (set): Set of stopwords to be removed.\n",
        "    \n",
        "    Returns:\n",
        "    - pd.Series: Series containing the preprocessed text.\n",
        "    "
      ],
      "metadata": {
        "id": "HRiddtsDf7t2"
      }
    },
    {
      "cell_type": "code",
      "source": [
        "def preprocess_text_parallel(text, stop_words):\n",
        "    # Tokenize the text\n",
        "    tokens = word_tokenize(text)\n",
        "    # Filter and lemmatize words\n",
        "    tokens = [word.lower() for word in tokens if word.isalnum() and word.lower() not in stop_words]\n",
        "    lemmatizer = WordNetLemmatizer()\n",
        "    tokens = [lemmatizer.lemmatize(word) for word in tokens]\n",
        "    # Join the tokens into a cleaned text\n",
        "    return ' '.join(tokens)\n",
        "# Function to preprocess an entire column in parallel\n",
        "def preprocess_parallel(column, stop_words):\n",
        "    return Parallel(n_jobs=-1)(delayed(preprocess_text_parallel)(text, stop_words) for text in column)\n",
        "\n",
        "# Define stop words\n",
        "stop_words = set(stopwords.words('english'))\n",
        "# Apply parallel preprocessing to the 'text' column and create a new 'text_cleaned' column\n",
        "df['text_cleaned'] = preprocess_parallel(df['text'], stop_words)\n"
      ],
      "metadata": {
        "id": "p4kV-ussSlJ2"
      },
      "execution_count": null,
      "outputs": []
    },
    {
      "cell_type": "code",
      "source": [
        "\n",
        "# Split data\n",
        "X_train, X_test, y_train, y_test = train_test_split(df['text_cleaned'], df['Y'], test_size=0.2, random_state=42)\n",
        "\n",
        "# Vectorize text\n",
        "max_words = 10000 # Maximum number of words to keep based on word frequency\n",
        "max_len = 100     # Maximum length of sequences after padding\n",
        "\n",
        "# Tokenize the training data\n",
        "tokenizer = Tokenizer(num_words=max_words)\n",
        "tokenizer.fit_on_texts(X_train)\n",
        "X_train_padded = pad_sequences(tokenizer.texts_to_sequences(X_train), maxlen=max_len)\n",
        "\n",
        "# Tokenize the testing data using the same tokenizer\n",
        "X_test_padded = pad_sequences(tokenizer.texts_to_sequences(X_test), maxlen=max_len)\n"
      ],
      "metadata": {
        "id": "g1mWGZMJSsBW"
      },
      "execution_count": null,
      "outputs": []
    },
    {
      "cell_type": "markdown",
      "source": [
        "    \n",
        "    Create a GRU-based neural network model.\n",
        "\n",
        "    Returns:\n",
        "    model (Sequential): Compiled GRU model.\n",
        "  "
      ],
      "metadata": {
        "id": "DVVtEOIGgof9"
      }
    },
    {
      "cell_type": "code",
      "source": [
        "# Build the GRU model\n",
        "def create_GRU_model():\n",
        "    model = Sequential()\n",
        "    # Embedding layer to convert words into dense vectors\n",
        "    model.add(Embedding(input_dim=max_words, output_dim=128, input_length=max_len))\n",
        "    # Bidirectional GRU layer for sequence processing\n",
        "    model.add(Bidirectional(GRU(64, dropout=0.3, recurrent_dropout=0.3, return_sequences=True)))\n",
        "    # Additional GRU layer for further sequence processing\n",
        "    model.add(GRU(64, dropout=0.3, recurrent_dropout=0.3))\n",
        "     # Dense layer for non-linear transformation\n",
        "    model.add(Dense(32, activation='relu'))\n",
        "    # Dropout layer for regularization\n",
        "    model.add(Dropout(0.5))\n",
        "    # Output layer with softmax activation for multi-class classification\n",
        "    model.add(Dense(3, activation='softmax'))\n",
        "    return model\n"
      ],
      "metadata": {
        "id": "4uCmgZcsTz1K"
      },
      "execution_count": null,
      "outputs": []
    },
    {
      "cell_type": "code",
      "source": [
        "# Create and Compile the GRU Model\n",
        "\n",
        "# Create the GRU model using the defined function\n",
        "model = create_GRU_model()\n",
        "# Set the learning rate for the Adam optimizer\n",
        "learning_rate = 0.001\n",
        "# Initialize the Adam optimizer with the specified learning rate\n",
        "optimizer = Adam(learning_rate=learning_rate)\n",
        "# Compile the model\n",
        "model.compile(loss='sparse_categorical_crossentropy', optimizer=optimizer, metrics=['accuracy'])\n",
        "\n",
        "# Early Stopping Callback\n",
        "\n",
        "# Define early stopping to monitor validation loss and restore the best weights\n",
        "early_stopping = EarlyStopping(monitor='val_loss', patience=3, restore_best_weights=True)\n",
        "\n",
        "# Model Training\n",
        "\n",
        "# Train the model on the preprocessed and padded training data\n",
        "# Use early stopping to prevent overfitting and restore the best weights\n",
        "history = model.fit(X_train_padded, y_train, epochs=5, batch_size=32, validation_split=0.2, callbacks=[early_stopping])\n"
      ],
      "metadata": {
        "colab": {
          "base_uri": "https://localhost:8080/"
        },
        "id": "5DQLPEQOT7Bf",
        "outputId": "056a0007-7e08-4f2b-e38a-c531f37b0d03"
      },
      "execution_count": null,
      "outputs": [
        {
          "output_type": "stream",
          "name": "stderr",
          "text": [
            "WARNING:tensorflow:Layer gru will not use cuDNN kernels since it doesn't meet the criteria. It will use a generic GPU kernel as fallback when running on GPU.\n",
            "WARNING:tensorflow:Layer gru will not use cuDNN kernels since it doesn't meet the criteria. It will use a generic GPU kernel as fallback when running on GPU.\n",
            "WARNING:tensorflow:Layer gru will not use cuDNN kernels since it doesn't meet the criteria. It will use a generic GPU kernel as fallback when running on GPU.\n",
            "WARNING:tensorflow:Layer gru_1 will not use cuDNN kernels since it doesn't meet the criteria. It will use a generic GPU kernel as fallback when running on GPU.\n"
          ]
        },
        {
          "output_type": "stream",
          "name": "stdout",
          "text": [
            "Epoch 1/5\n",
            "823/823 [==============================] - 440s 524ms/step - loss: 0.7012 - accuracy: 0.7098 - val_loss: 0.4696 - val_accuracy: 0.8348\n",
            "Epoch 2/5\n",
            "823/823 [==============================] - 430s 522ms/step - loss: 0.4153 - accuracy: 0.8667 - val_loss: 0.4437 - val_accuracy: 0.8478\n",
            "Epoch 3/5\n",
            "823/823 [==============================] - 439s 533ms/step - loss: 0.3300 - accuracy: 0.8980 - val_loss: 0.4802 - val_accuracy: 0.8440\n",
            "Epoch 4/5\n",
            "823/823 [==============================] - 424s 515ms/step - loss: 0.2800 - accuracy: 0.9172 - val_loss: 0.5228 - val_accuracy: 0.8313\n",
            "Epoch 5/5\n",
            "823/823 [==============================] - 421s 511ms/step - loss: 0.2298 - accuracy: 0.9297 - val_loss: 0.6194 - val_accuracy: 0.8276\n"
          ]
        }
      ]
    },
    {
      "cell_type": "code",
      "source": [
        "# Testing\n",
        "y_pred_probs = model.predict(X_test_padded)\n",
        "y_pred = np.argmax(y_pred_probs, axis=1)"
      ],
      "metadata": {
        "id": "7uLtfPj8TH5X",
        "colab": {
          "base_uri": "https://localhost:8080/"
        },
        "outputId": "2d3b3788-dd08-4cbf-a28b-e74e6482380e"
      },
      "execution_count": null,
      "outputs": [
        {
          "output_type": "stream",
          "name": "stdout",
          "text": [
            "258/258 [==============================] - 23s 85ms/step\n"
          ]
        }
      ]
    },
    {
      "cell_type": "code",
      "source": [
        "# Evaluate the model\n",
        "accuracy = accuracy_score(y_test, y_pred)\n",
        "conf_matrix = confusion_matrix(y_test, y_pred)"
      ],
      "metadata": {
        "id": "zB2gvohjUq-d"
      },
      "execution_count": null,
      "outputs": []
    },
    {
      "cell_type": "code",
      "source": [
        "# Additional metrics and analysis\n",
        "print(\"Accuracy:\", accuracy)\n",
        "print(\"\\nClassification Report:\\n\", classification_report(y_test, y_pred))\n",
        "\n",
        "# Plot training history\n",
        "plt.plot(history.history['accuracy'], label='Training Accuracy')\n",
        "plt.plot(history.history['val_accuracy'], label='Validation Accuracy')\n",
        "plt.title('Training and Validation Accuracy')\n",
        "plt.xlabel('Epoch')\n",
        "plt.ylabel('Accuracy')\n",
        "plt.legend()\n",
        "plt.show()"
      ],
      "metadata": {
        "id": "u-eQh2LcUt9y",
        "colab": {
          "base_uri": "https://localhost:8080/",
          "height": 698
        },
        "outputId": "581e3dbf-e1ae-4815-9642-da05f4241ebd"
      },
      "execution_count": null,
      "outputs": [
        {
          "output_type": "stream",
          "name": "stdout",
          "text": [
            "Accuracy: 0.8512938889563844\n",
            "\n",
            "Classification Report:\n",
            "               precision    recall  f1-score   support\n",
            "\n",
            "           0       0.85      0.84      0.84      3123\n",
            "           1       0.83      0.79      0.81      1511\n",
            "           2       0.86      0.88      0.87      3597\n",
            "\n",
            "    accuracy                           0.85      8231\n",
            "   macro avg       0.85      0.84      0.84      8231\n",
            "weighted avg       0.85      0.85      0.85      8231\n",
            "\n"
          ]
        },
        {
          "output_type": "display_data",
          "data": {
            "text/plain": [
              "<Figure size 640x480 with 1 Axes>"
            ],
            "image/png": "[encoded data removed]"
          },
          "metadata": {}
        }
      ]
    }
  ]
}