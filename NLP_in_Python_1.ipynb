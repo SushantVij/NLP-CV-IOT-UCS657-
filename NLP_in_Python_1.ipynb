{
  "cells": [
    {
      "cell_type": "markdown",
      "metadata": {
        "id": "view-in-github",
        "colab_type": "text"
      },
      "source": [
        "<a href=\"https://colab.research.google.com/github/SushantVij/NLP-CV-IOT-UCS657-/blob/main/NLP_in_Python_1.ipynb\" target=\"_parent\"><img src=\"https://colab.research.google.com/assets/colab-badge.svg\" alt=\"Open In Colab\"/></a>"
      ]
    },
    {
      "cell_type": "markdown",
      "id": "e808f187",
      "metadata": {
        "id": "e808f187"
      },
      "source": [
        "### Install a Few Additional Packages\n",
        "\n",
        "There are a few additional packages we'll be using during the tutorial that are not included when you download Anaconda - wordcloud, textblob and gensim.\n",
        "\n",
        "Open the Anaconda Prompt program. You should see a black window pop up. Type `conda install -c conda-forge wordcloud` to download wordcloud. You will be asked whether you want to proceed or not. Type `y` for yes. Once that is done, type `conda install -c conda-forge textblob` to download textblob and `y` to proceed, and type `conda install -c conda-forge gensim` to download gensim and `y` to proceed."
      ]
    },
    {
      "cell_type": "markdown",
      "id": "e7dfc4bf",
      "metadata": {
        "id": "e7dfc4bf"
      },
      "source": [
        "|  |  |  |\n",
        "| --- | --- | --- |\n",
        "| Programming | Data | pandas, sklearn, re, nltk |\n",
        "| | NLP| TextBlob, gensim |         \n",
        "| Mathemetics & Statistics |Clean | corpus, document-term matrix |\n",
        "| | EDA | word counts |\n",
        "| | NLP | sentiment analysis,topic modeling, text generation |\n",
        "| Communication | Design | scope, visualize, extract insights|\n",
        "|| Domain | expertise |\n"
      ]
    },
    {
      "cell_type": "markdown",
      "id": "94aef0c1",
      "metadata": {
        "id": "94aef0c1"
      },
      "source": [
        "For NLP through Python(or any other programming) you need sets of skill:\n",
        "1. Programming\n",
        "2. Maths & stats\n",
        "3. Communication\n",
        "\n",
        "We will go through over all three types of skills. \n",
        "In programming set of skill, we will use some Python libraries. For data analysis pandas will be used, we also need regular expression for text data. scikit-learn a great tool for data science has a lot of machine learnin tools. We will use it ot format some of our data.  Some couple of NLP libraries like NLTK natural language tool, textBlob built on NLTK and gensim for topic modeling. These are set of skill you require from Python.\n",
        "\n",
        "You need to understand concepts for interpritation of results. You need to clean raw data  and put in appropriate format for further processing. So the raw text data is general corpus format, then document term metrix. You need to do some exploratory data analysis(EDA) that generate and use word counts. Then three NLP skill sentiment analysis, topic modeling and text generation. Then finally there's this communication piece and usually all the soft skills. It has two parts. There is a design piece which is all about how you design a project and this is so important whenever I advise my students I find that this is where they struggle the most. So, just figuring out if you have a question like where to start, how do you scope out your project, what insights can you draw from that data, what visualizations can you make to communicate things more effectively. So, that's all about design. Then finally having some type of domain expertise is really important. \n"
      ]
    },
    {
      "cell_type": "markdown",
      "id": "1b25ad88",
      "metadata": {
        "id": "1b25ad88"
      },
      "source": [
        "# Data Science Workflow\n",
        "\n",
        "NLP is a sub-domain of Data Science, so, start with introduction to general workflow in Data Science.\n",
        "1. Start with a Question\n",
        "2. Get & Clean the Data\n",
        "3. Perform EDA\n",
        "4. Apply Techniques\n",
        "5. Share Insights\n"
      ]
    },
    {
      "cell_type": "markdown",
      "id": "ae048a86",
      "metadata": {
        "id": "ae048a86"
      },
      "source": [
        "# A simple example"
      ]
    },
    {
      "cell_type": "markdown",
      "id": "4570f66a",
      "metadata": {
        "id": "4570f66a"
      },
      "source": [
        "### 1. Start with a Question\n",
        "\"If I study more, will I get a higher grade?\"\n",
        " \n",
        " Now, what data is required to answer this question?\n",
        " ->studies hours and grade of some students!\n",
        " \n",
        " | Student | Studied hours | Grade |\n",
        " | --- | --- | --- | \n",
        " | Naman | 25 | 10 |\n",
        " | Ankit | 7 | 7 |\n",
        " | Palak | Ten | 8 |\n",
        " | Ramu | 15 | 101 |"
      ]
    },
    {
      "cell_type": "code",
      "source": [
        "import pandas as pd\n",
        "df=pd.read_csv('/content/NLP1.csv')"
      ],
      "metadata": {
        "id": "ej3YQtTTR8aH"
      },
      "id": "ej3YQtTTR8aH",
      "execution_count": null,
      "outputs": []
    },
    {
      "cell_type": "markdown",
      "id": "1f41ec52",
      "metadata": {
        "id": "1f41ec52"
      },
      "source": [
        "#### Assignment: \n",
        "1. Clean the data manualy.\n",
        "2. Add more row to above data and share with your friend. Your friend will clean it."
      ]
    },
    {
      "cell_type": "code",
      "source": [
        "df.rename(columns = {'Studied hours':'Studied_hours'}, inplace = True)"
      ],
      "metadata": {
        "id": "hefgLkLKb0pV"
      },
      "id": "hefgLkLKb0pV",
      "execution_count": null,
      "outputs": []
    },
    {
      "cell_type": "code",
      "source": [
        "df['Studied_hours'] = df['Studied_hours'].replace(['Ten'], '10')"
      ],
      "metadata": {
        "id": "r4YriTvdUXp6"
      },
      "id": "r4YriTvdUXp6",
      "execution_count": null,
      "outputs": []
    },
    {
      "cell_type": "code",
      "source": [
        "\n",
        "from word2number import w2n\n",
        " \n",
        "# initializing string\n",
        "test_str = \"Ten\"\n",
        " \n",
        "# printing original string\n",
        "print(\"The original string is : \" + test_str)\n",
        " \n",
        "# Convert numeric words to numbers\n",
        "# Using word2number\n",
        "res = w2n.word_to_num(test_str)\n",
        " \n",
        "# printing result\n",
        "print(\"The string after performing replace : \" + str(res))"
      ],
      "metadata": {
        "colab": {
          "base_uri": "https://localhost:8080/"
        },
        "id": "ItHmyqi2vnib",
        "outputId": "37daaf0d-7b3f-4851-c0d5-5548c3ef475a"
      },
      "id": "ItHmyqi2vnib",
      "execution_count": null,
      "outputs": [
        {
          "output_type": "stream",
          "name": "stdout",
          "text": [
            "The original string is : Ten\n",
            "The string after performing replace : 10\n"
          ]
        }
      ]
    },
    {
      "cell_type": "code",
      "source": [
        "df"
      ],
      "metadata": {
        "colab": {
          "base_uri": "https://localhost:8080/",
          "height": 175
        },
        "id": "LniCUdwdVnuv",
        "outputId": "5c79cc23-6250-49fc-b8f5-51e5534a6859"
      },
      "id": "LniCUdwdVnuv",
      "execution_count": null,
      "outputs": [
        {
          "output_type": "execute_result",
          "data": {
            "text/plain": [
              "  Student Studied_hours  Grade\n",
              "0   Naman            25     10\n",
              "1   Ankit             7      7\n",
              "2   Palak            10      8\n",
              "3    Ramu            15    101"
            ],
            "text/html": [
              "\n",
              "  <div id=\"df-605cf879-29b7-4e3a-89e7-8acca4a90dac\">\n",
              "    <div class=\"colab-df-container\">\n",
              "      <div>\n",
              "<style scoped>\n",
              "    .dataframe tbody tr th:only-of-type {\n",
              "        vertical-align: middle;\n",
              "    }\n",
              "\n",
              "    .dataframe tbody tr th {\n",
              "        vertical-align: top;\n",
              "    }\n",
              "\n",
              "    .dataframe thead th {\n",
              "        text-align: right;\n",
              "    }\n",
              "</style>\n",
              "<table border=\"1\" class=\"dataframe\">\n",
              "  <thead>\n",
              "    <tr style=\"text-align: right;\">\n",
              "      <th></th>\n",
              "      <th>Student</th>\n",
              "      <th>Studied_hours</th>\n",
              "      <th>Grade</th>\n",
              "    </tr>\n",
              "  </thead>\n",
              "  <tbody>\n",
              "    <tr>\n",
              "      <th>0</th>\n",
              "      <td>Naman</td>\n",
              "      <td>25</td>\n",
              "      <td>10</td>\n",
              "    </tr>\n",
              "    <tr>\n",
              "      <th>1</th>\n",
              "      <td>Ankit</td>\n",
              "      <td>7</td>\n",
              "      <td>7</td>\n",
              "    </tr>\n",
              "    <tr>\n",
              "      <th>2</th>\n",
              "      <td>Palak</td>\n",
              "      <td>10</td>\n",
              "      <td>8</td>\n",
              "    </tr>\n",
              "    <tr>\n",
              "      <th>3</th>\n",
              "      <td>Ramu</td>\n",
              "      <td>15</td>\n",
              "      <td>101</td>\n",
              "    </tr>\n",
              "  </tbody>\n",
              "</table>\n",
              "</div>\n",
              "      <button class=\"colab-df-convert\" onclick=\"convertToInteractive('df-605cf879-29b7-4e3a-89e7-8acca4a90dac')\"\n",
              "              title=\"Convert this dataframe to an interactive table.\"\n",
              "              style=\"display:none;\">\n",
              "        \n",
              "  <svg xmlns=\"http://www.w3.org/2000/svg\" height=\"24px\"viewBox=\"0 0 24 24\"\n",
              "       width=\"24px\">\n",
              "    <path d=\"M0 0h24v24H0V0z\" fill=\"none\"/>\n",
              "    <path d=\"M18.56 5.44l.94 2.06.94-2.06 2.06-.94-2.06-.94-.94-2.06-.94 2.06-2.06.94zm-11 1L8.5 8.5l.94-2.06 2.06-.94-2.06-.94L8.5 2.5l-.94 2.06-2.06.94zm10 10l.94 2.06.94-2.06 2.06-.94-2.06-.94-.94-2.06-.94 2.06-2.06.94z\"/><path d=\"M17.41 7.96l-1.37-1.37c-.4-.4-.92-.59-1.43-.59-.52 0-1.04.2-1.43.59L10.3 9.45l-7.72 7.72c-.78.78-.78 2.05 0 2.83L4 21.41c.39.39.9.59 1.41.59.51 0 1.02-.2 1.41-.59l7.78-7.78 2.81-2.81c.8-.78.8-2.07 0-2.86zM5.41 20L4 18.59l7.72-7.72 1.47 1.35L5.41 20z\"/>\n",
              "  </svg>\n",
              "      </button>\n",
              "      \n",
              "  <style>\n",
              "    .colab-df-container {\n",
              "      display:flex;\n",
              "      flex-wrap:wrap;\n",
              "      gap: 12px;\n",
              "    }\n",
              "\n",
              "    .colab-df-convert {\n",
              "      background-color: #E8F0FE;\n",
              "      border: none;\n",
              "      border-radius: 50%;\n",
              "      cursor: pointer;\n",
              "      display: none;\n",
              "      fill: #1967D2;\n",
              "      height: 32px;\n",
              "      padding: 0 0 0 0;\n",
              "      width: 32px;\n",
              "    }\n",
              "\n",
              "    .colab-df-convert:hover {\n",
              "      background-color: #E2EBFA;\n",
              "      box-shadow: 0px 1px 2px rgba(60, 64, 67, 0.3), 0px 1px 3px 1px rgba(60, 64, 67, 0.15);\n",
              "      fill: #174EA6;\n",
              "    }\n",
              "\n",
              "    [theme=dark] .colab-df-convert {\n",
              "      background-color: #3B4455;\n",
              "      fill: #D2E3FC;\n",
              "    }\n",
              "\n",
              "    [theme=dark] .colab-df-convert:hover {\n",
              "      background-color: #434B5C;\n",
              "      box-shadow: 0px 1px 3px 1px rgba(0, 0, 0, 0.15);\n",
              "      filter: drop-shadow(0px 1px 2px rgba(0, 0, 0, 0.3));\n",
              "      fill: #FFFFFF;\n",
              "    }\n",
              "  </style>\n",
              "\n",
              "      <script>\n",
              "        const buttonEl =\n",
              "          document.querySelector('#df-605cf879-29b7-4e3a-89e7-8acca4a90dac button.colab-df-convert');\n",
              "        buttonEl.style.display =\n",
              "          google.colab.kernel.accessAllowed ? 'block' : 'none';\n",
              "\n",
              "        async function convertToInteractive(key) {\n",
              "          const element = document.querySelector('#df-605cf879-29b7-4e3a-89e7-8acca4a90dac');\n",
              "          const dataTable =\n",
              "            await google.colab.kernel.invokeFunction('convertToInteractive',\n",
              "                                                     [key], {});\n",
              "          if (!dataTable) return;\n",
              "\n",
              "          const docLinkHtml = 'Like what you see? Visit the ' +\n",
              "            '<a target=\"_blank\" href=https://colab.research.google.com/notebooks/data_table.ipynb>data table notebook</a>'\n",
              "            + ' to learn more about interactive tables.';\n",
              "          element.innerHTML = '';\n",
              "          dataTable['output_type'] = 'display_data';\n",
              "          await google.colab.output.renderOutput(dataTable, element);\n",
              "          const docLink = document.createElement('div');\n",
              "          docLink.innerHTML = docLinkHtml;\n",
              "          element.appendChild(docLink);\n",
              "        }\n",
              "      </script>\n",
              "    </div>\n",
              "  </div>\n",
              "  "
            ]
          },
          "metadata": {},
          "execution_count": 33
        }
      ]
    },
    {
      "cell_type": "markdown",
      "id": "3ccf6464",
      "metadata": {
        "id": "3ccf6464"
      },
      "source": [
        "### 2.  Get and Clean the data\n",
        "| Student | Studied hours | Grade |\n",
        " | --- | --- | --- | \n",
        " | Naman | 25 | 10 |\n",
        " | Ankit | 7 | 7 |\n",
        " | Palak | 10 | 8 |\n",
        " | Ramu | 15 | 10 |"
      ]
    },
    {
      "cell_type": "markdown",
      "id": "d04ad54a",
      "metadata": {
        "id": "d04ad54a"
      },
      "source": [
        "### 3. Perform EDA\n",
        "#### Assignment: \n",
        "1. Perform EDA on cleaned data.(Hint plot the data) \n",
        "2. Write atleat two observation from EDA."
      ]
    },
    {
      "cell_type": "code",
      "source": [
        "df[\"Studied hours\"].value_counts()\n"
      ],
      "metadata": {
        "colab": {
          "base_uri": "https://localhost:8080/"
        },
        "id": "3BAjJCtbWjTW",
        "outputId": "4261edbb-4e47-4739-d1ec-e85b802665af"
      },
      "id": "3BAjJCtbWjTW",
      "execution_count": null,
      "outputs": [
        {
          "output_type": "execute_result",
          "data": {
            "text/plain": [
              "25    1\n",
              "7     1\n",
              "10    1\n",
              "15    1\n",
              "Name: Studied hours, dtype: int64"
            ]
          },
          "metadata": {},
          "execution_count": 18
        }
      ]
    },
    {
      "cell_type": "code",
      "source": [
        "df[\"Grade\"].value_counts()"
      ],
      "metadata": {
        "colab": {
          "base_uri": "https://localhost:8080/"
        },
        "id": "kuOXX4PeW03b",
        "outputId": "77691214-f95b-478d-8c8d-e3a6b31c16d9"
      },
      "id": "kuOXX4PeW03b",
      "execution_count": null,
      "outputs": [
        {
          "output_type": "execute_result",
          "data": {
            "text/plain": [
              "10     1\n",
              "7      1\n",
              "8      1\n",
              "101    1\n",
              "Name: Grade, dtype: int64"
            ]
          },
          "metadata": {},
          "execution_count": 17
        }
      ]
    },
    {
      "cell_type": "code",
      "source": [
        "df.Grade.describe()"
      ],
      "metadata": {
        "colab": {
          "base_uri": "https://localhost:8080/"
        },
        "id": "LJ2pNKc9WW2d",
        "outputId": "c7409196-f99a-4b6c-8818-c67552c4edbb"
      },
      "id": "LJ2pNKc9WW2d",
      "execution_count": null,
      "outputs": [
        {
          "output_type": "execute_result",
          "data": {
            "text/plain": [
              "count      4.000000\n",
              "mean      31.500000\n",
              "std       46.350117\n",
              "min        7.000000\n",
              "25%        7.750000\n",
              "50%        9.000000\n",
              "75%       32.750000\n",
              "max      101.000000\n",
              "Name: Grade, dtype: float64"
            ]
          },
          "metadata": {},
          "execution_count": 20
        }
      ]
    },
    {
      "cell_type": "code",
      "source": [
        "x_test=[30,4,14,21]\n",
        "y_test=[9,10,6,7]"
      ],
      "metadata": {
        "id": "gcFojHGPameT"
      },
      "id": "gcFojHGPameT",
      "execution_count": null,
      "outputs": []
    },
    {
      "cell_type": "code",
      "execution_count": null,
      "id": "798656bf",
      "metadata": {
        "scrolled": true,
        "colab": {
          "base_uri": "https://localhost:8080/",
          "height": 282
        },
        "id": "798656bf",
        "outputId": "06d3794a-8033-45ca-8d1d-023f4ba05221"
      },
      "outputs": [
        {
          "output_type": "execute_result",
          "data": {
            "text/plain": [
              "<matplotlib.collections.PathCollection at 0x7fc654426fa0>"
            ]
          },
          "metadata": {},
          "execution_count": 5
        },
        {
          "output_type": "display_data",
          "data": {
            "text/plain": [
              "<Figure size 432x288 with 1 Axes>"
            ],
            "image/png": "[encoded data removed]"
          },
          "metadata": {
            "needs_background": "light"
          }
        }
      ],
      "source": [
        "import matplotlib.pyplot as plt\n",
        "studied_hours=[25, 7, 10, 15] #Try to import the data from \n",
        "grade=[10, 7, 8, 10]          # text file containing the data in same format.\n",
        "plt.scatter(grade, studied_hours)"
      ]
    },
    {
      "cell_type": "code",
      "source": [
        "plt.boxplot(studied_hours)\n",
        "plt.show()"
      ],
      "metadata": {
        "colab": {
          "base_uri": "https://localhost:8080/",
          "height": 265
        },
        "id": "Fu6zpsB-XuIo",
        "outputId": "696b75c9-6a1d-4ac4-94e8-503b61045fa0"
      },
      "id": "Fu6zpsB-XuIo",
      "execution_count": null,
      "outputs": [
        {
          "output_type": "display_data",
          "data": {
            "text/plain": [
              "<Figure size 432x288 with 1 Axes>"
            ],
            "image/png": "[encoded data removed]"
          },
          "metadata": {
            "needs_background": "light"
          }
        }
      ]
    },
    {
      "cell_type": "code",
      "source": [
        "y = list(df.Grade)\n",
        "plt.boxplot(y)\n",
        "plt.show()"
      ],
      "metadata": {
        "colab": {
          "base_uri": "https://localhost:8080/",
          "height": 265
        },
        "id": "mm_3Pcr8XjT5",
        "outputId": "274abdc1-1b24-4401-f3d1-e4dd695b1c41"
      },
      "id": "mm_3Pcr8XjT5",
      "execution_count": null,
      "outputs": [
        {
          "output_type": "display_data",
          "data": {
            "text/plain": [
              "<Figure size 432x288 with 1 Axes>"
            ],
            "image/png": "[encoded data removed]"
          },
          "metadata": {
            "needs_background": "light"
          }
        }
      ]
    },
    {
      "cell_type": "markdown",
      "id": "85a2b8f5",
      "metadata": {
        "id": "85a2b8f5"
      },
      "source": [
        "### 4. Apply Techniques\n",
        "#### Assignment: \n",
        "1. Apply a machine learning or data science technique to encode your observation in EDA. (Hint: which type of realtion is associated between hours of study and grade)"
      ]
    },
    {
      "cell_type": "code",
      "source": [
        "\n",
        "from sklearn.linear_model import LinearRegression\n",
        "\n"
      ],
      "metadata": {
        "id": "PgU9YS5TZokA"
      },
      "id": "PgU9YS5TZokA",
      "execution_count": null,
      "outputs": []
    },
    {
      "cell_type": "code",
      "source": [
        "\n",
        "y=df.Grade\n",
        "X=df[[\"Studied_hours\"]]\n",
        "\n"
      ],
      "metadata": {
        "id": "SJiazMdFbZz9"
      },
      "id": "SJiazMdFbZz9",
      "execution_count": null,
      "outputs": []
    },
    {
      "cell_type": "code",
      "source": [
        "\n",
        "lr= LinearRegression()\n",
        "#Fit X and y \n",
        "lr.fit(df[[\"Studied_hours\"]],df[[\"Grade\"]])\n",
        "\n",
        "\n",
        "import numpy as np\n",
        "x_new = np.linspace(0, 26, 20)\n",
        "\n",
        "y_new = lr.predict(x_new[:, np.newaxis])"
      ],
      "metadata": {
        "colab": {
          "base_uri": "https://localhost:8080/"
        },
        "id": "JV9KN4Qdcutt",
        "outputId": "98ebfc5d-8a62-4e3e-f9dd-d3e7e300308a"
      },
      "id": "JV9KN4Qdcutt",
      "execution_count": null,
      "outputs": [
        {
          "output_type": "stream",
          "name": "stderr",
          "text": [
            "/usr/local/lib/python3.8/dist-packages/sklearn/base.py:450: UserWarning: X does not have valid feature names, but LinearRegression was fitted with feature names\n",
            "  warnings.warn(\n"
          ]
        }
      ]
    },
    {
      "cell_type": "code",
      "source": [
        "plt.figure(figsize=(15, 12))\n",
        "ax = plt.axes()\n",
        "ax.scatter(x_new, y_new)\n",
        "ax.scatter(df['Studied_hours'], df['Grade'], marker = '*')"
      ],
      "metadata": {
        "colab": {
          "base_uri": "https://localhost:8080/",
          "height": 717
        },
        "id": "NPDbQIXAicbe",
        "outputId": "0449974d-d196-4e52-b7c0-cfc4d0a69cd7"
      },
      "id": "NPDbQIXAicbe",
      "execution_count": null,
      "outputs": [
        {
          "output_type": "execute_result",
          "data": {
            "text/plain": [
              "<matplotlib.collections.PathCollection at 0x7fc646bb2250>"
            ]
          },
          "metadata": {},
          "execution_count": 60
        },
        {
          "output_type": "display_data",
          "data": {
            "text/plain": [
              "<Figure size 1080x864 with 1 Axes>"
            ],
            "image/png": "[encoded data removed]"
          },
          "metadata": {
            "needs_background": "light"
          }
        }
      ]
    },
    {
      "cell_type": "markdown",
      "id": "58113c62",
      "metadata": {
        "id": "58113c62"
      },
      "source": [
        "### 5. Share Insights\n",
        "#### Assignment:\n",
        "1. Is there any relation between the number of hours you study and the grade you will get? Represent the relation using graph.\n",
        "2. What is the speciffic mathemetical relationship between number of hours you study and the grade?\n",
        "3. Is there any abnormality? What conclusion you drown about abnormal data? \n",
        "\n",
        "\n"
      ]
    },
    {
      "cell_type": "code",
      "source": [
        "lr.intercept_"
      ],
      "metadata": {
        "colab": {
          "base_uri": "https://localhost:8080/"
        },
        "id": "0itDXElAjlYn",
        "outputId": "47b27396-65c3-4e66-9973-1b9afac9afbf"
      },
      "id": "0itDXElAjlYn",
      "execution_count": null,
      "outputs": [
        {
          "output_type": "execute_result",
          "data": {
            "text/plain": [
              "array([23.98393574])"
            ]
          },
          "metadata": {},
          "execution_count": 61
        }
      ]
    },
    {
      "cell_type": "code",
      "source": [
        "lr.coef_"
      ],
      "metadata": {
        "colab": {
          "base_uri": "https://localhost:8080/"
        },
        "id": "9GLTHjFXjpd_",
        "outputId": "2000dfcb-ab59-4e0a-be37-0c6329804a51"
      },
      "id": "9GLTHjFXjpd_",
      "execution_count": null,
      "outputs": [
        {
          "output_type": "execute_result",
          "data": {
            "text/plain": [
              "array([[0.52744311]])"
            ]
          },
          "metadata": {},
          "execution_count": 64
        }
      ]
    }
  ],
  "metadata": {
    "kernelspec": {
      "display_name": "Python 3 (ipykernel)",
      "language": "python",
      "name": "python3"
    },
    "language_info": {
      "codemirror_mode": {
        "name": "ipython",
        "version": 3
      },
      "file_extension": ".py",
      "mimetype": "text/x-python",
      "name": "python",
      "nbconvert_exporter": "python",
      "pygments_lexer": "ipython3",
      "version": "3.9.7"
    },
    "colab": {
      "provenance": [],
      "include_colab_link": true
    }
  },
  "nbformat": 4,
  "nbformat_minor": 5
}