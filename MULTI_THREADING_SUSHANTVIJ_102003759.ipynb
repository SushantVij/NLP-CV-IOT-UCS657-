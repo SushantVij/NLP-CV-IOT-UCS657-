{
  "nbformat": 4,
  "nbformat_minor": 0,
  "metadata": {
    "colab": {
      "provenance": [],
      "authorship_tag": "ABX9TyO6k3IB7ZHSrEqwBTzKBEf7",
      "include_colab_link": true
    },
    "kernelspec": {
      "name": "python3",
      "display_name": "Python 3"
    },
    "language_info": {
      "name": "python"
    }
  },
  "cells": [
    {
      "cell_type": "markdown",
      "metadata": {
        "id": "view-in-github",
        "colab_type": "text"
      },
      "source": [
        "<a href=\"https://colab.research.google.com/github/SushantVij/NLP-CV-IOT-UCS657-/blob/main/MULTI_THREADING_SUSHANTVIJ_102003759.ipynb\" target=\"_parent\"><img src=\"https://colab.research.google.com/assets/colab-badge.svg\" alt=\"Open In Colab\"/></a>"
      ]
    },
    {
      "cell_type": "code",
      "execution_count": 6,
      "metadata": {
        "id": "Z_qpRZRkiaHV"
      },
      "outputs": [],
      "source": [
        "# Python program to illustrate the concept\n",
        "# of threading\n",
        "import threading\n",
        "import os\n",
        "import time\n",
        "\n",
        " \n",
        " "
      ]
    },
    {
      "cell_type": "code",
      "source": [
        "\n",
        "def print_cube(num):\n",
        "    # function to print cube of given num\n",
        "    print(\"Cube: {}\" .format(num * num * num))\n",
        " \n"
      ],
      "metadata": {
        "id": "bkyoj_ksj4r0"
      },
      "execution_count": 3,
      "outputs": []
    },
    {
      "cell_type": "code",
      "source": [
        " \n",
        "def print_square(num):\n",
        "    # function to print square of given num\n",
        "    print(\"Square: {}\" .format(num * num))\n",
        " \n"
      ],
      "metadata": {
        "id": "H18qFpL9j7CM"
      },
      "execution_count": 4,
      "outputs": []
    },
    {
      "cell_type": "markdown",
      "source": [
        "This code creates two threads, t1 and t2, that execute two different functions, print_square and print_cube with an argument of 10. The start() method is called on both threads to start their execution. \n",
        "\n",
        "\n",
        "The join() method is called on both threads to ensure that their execution is complete before the program proceeds to the next line. \n",
        "\n",
        "\n",
        "Finally, after both threads have completed their execution, the program prints \"Done!\".\n",
        "\n",
        "\n",
        "This code enables parallel execution of the two functions to speed up the computation time."
      ],
      "metadata": {
        "id": "gUd5gEVskVBV"
      }
    },
    {
      "cell_type": "code",
      "source": [
        "if __name__ ==\"__main__\":\n",
        "    # creating thread\n",
        "    t1 = threading.Thread(target=print_square, args=(10,))\n",
        "    t2 = threading.Thread(target=print_cube, args=(10,))\n",
        " \n",
        "    # starting thread 1\n",
        "    t1.start()\n",
        "    # starting thread 2\n",
        "    t2.start()\n",
        " \n",
        "    # wait until thread 1 is completely executed\n",
        "    t1.join()\n",
        "    # wait until thread 2 is completely executed\n",
        "    t2.join()\n",
        " \n",
        "    # both threads completely executed\n",
        "    print(\"Done!\")"
      ],
      "metadata": {
        "colab": {
          "base_uri": "https://localhost:8080/"
        },
        "id": "Vh7FNYA4j8y-",
        "outputId": "e160a0f5-8c11-46b1-b68e-04763a509439"
      },
      "execution_count": 5,
      "outputs": [
        {
          "output_type": "stream",
          "name": "stdout",
          "text": [
            "Square: 100\n",
            "Cube: 1000\n",
            "Done!\n"
          ]
        }
      ]
    },
    {
      "cell_type": "markdown",
      "source": [
        "This code defines a function called 'task1'. When called, the function will print two lines of text to the console. The first line will display the name of the thread that the task is assigned to using the 'threading.current_thread().name' method. The second line will display the process ID (PID) of the process that is currently running the task using the 'os.getpid()' method."
      ],
      "metadata": {
        "id": "cOEwewwflafn"
      }
    },
    {
      "cell_type": "code",
      "source": [
        "\n",
        "def task1():\n",
        "\tprint(\"Task 1 assigned to thread: {}\".format(threading.current_thread().name))\n",
        "\tprint(\"ID of process running task 1: {}\".format(os.getpid()))\n",
        "\n"
      ],
      "metadata": {
        "id": "lrp43bLhkupn"
      },
      "execution_count": 7,
      "outputs": []
    },
    {
      "cell_type": "code",
      "source": [
        "def task2():\n",
        "\tprint(\"Task 2 assigned to thread: {}\".format(threading.current_thread().name))\n",
        "\tprint(\"ID of process running task 2: {}\".format(os.getpid()))\n",
        "\n"
      ],
      "metadata": {
        "id": "lvnR42sjk7nz"
      },
      "execution_count": 8,
      "outputs": []
    },
    {
      "cell_type": "code",
      "source": [
        "if __name__ == \"__main__\":\n",
        "\n",
        "\t# print ID of current process\n",
        "\tprint(\"ID of process running main program: {}\".format(os.getpid()))\n",
        "\n",
        "\t# print name of main thread\n",
        "\tprint(\"Main thread name: {}\".format(threading.current_thread().name))\n",
        "\n",
        "\t# creating threads\n",
        "\tt1 = threading.Thread(target=task1, name='t1')\n",
        "\tt2 = threading.Thread(target=task2, name='t2')\n",
        "\n",
        "\t# starting threads\n",
        "\tt1.start()\n",
        "\tt2.start()\n",
        "\n",
        "\t# wait until all threads finish\n",
        "\tt1.join()\n",
        "\tt2.join()\n"
      ],
      "metadata": {
        "colab": {
          "base_uri": "https://localhost:8080/"
        },
        "id": "dsxMFq63k-PC",
        "outputId": "208cc884-25b3-434c-a5f4-1274266a3682"
      },
      "execution_count": 9,
      "outputs": [
        {
          "output_type": "stream",
          "name": "stdout",
          "text": [
            "ID of process running main program: 772\n",
            "Main thread name: MainThread\n",
            "Task 1 assigned to thread: t1\n",
            "ID of process running task 1: 772\n",
            "Task 2 assigned to thread: t2\n",
            "ID of process running task 2: 772\n"
          ]
        }
      ]
    }
  ]
}